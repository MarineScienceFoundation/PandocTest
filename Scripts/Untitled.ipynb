{
 "cells": [
  {
   "cell_type": "code",
   "execution_count": 86,
   "metadata": {},
   "outputs": [],
   "source": [
    "import os\n",
    "import re\n",
    "\n",
    "filelist = []\n",
    "mylist = []\n",
    "\n",
    "for root, dirs, files in os.walk(\".\"): \n",
    "    for f in files: \n",
    "        fullpath = os.path.join(root,f) \n",
    "        if fullpath.endswith(\".md\"):\n",
    "            mylist.append((fullpath, root, f))\n"
   ]
  },
  {
   "cell_type": "code",
   "execution_count": null,
   "metadata": {},
   "outputs": [],
   "source": []
  },
  {
   "cell_type": "code",
   "execution_count": 87,
   "metadata": {},
   "outputs": [
    {
     "name": "stdout",
     "output_type": "stream",
     "text": [
      "[('./derp.md', '.', 'derp.md'), ('./README.md', '.', 'README.md'), ('./System/README.md', './System', 'README.md')]\n"
     ]
    }
   ],
   "source": [
    "print(mylist[:3])\n",
    "mylist[1][0]\n",
    "filename = mylist[1][0]\n",
    "a = open(filename)"
   ]
  },
  {
   "cell_type": "code",
   "execution_count": 88,
   "metadata": {},
   "outputs": [
    {
     "name": "stdout",
     "output_type": "stream",
     "text": [
      "![System Block Diagram](CurrentBlockDiagram2.png){ width=250px}\n",
      "\n",
      "![Picture Under Test](Progress.jpg)\n",
      "\n"
     ]
    }
   ],
   "source": [
    "FULLPATH = 0\n",
    "ROOTPATH = 1\n",
    "FILENAME = 2\n",
    "\n",
    "\n",
    "\n",
    "NUM = 1\n",
    "\n",
    "\n",
    "fpath = mylist[NUM][ROOTPATH]\n",
    "filename = mylist[NUM][FILENAME]\n",
    "f = open(mylist[NUM][FULLPATH])\n",
    "\n",
    "\n",
    "\n",
    "# find all links \n",
    "pattern = \"!\\[(.*?)\\]\\((.*?)\\)\"\n",
    "for line in f.readlines():\n",
    "    test= re.match(pattern, line)\n",
    "    if test != None:\n",
    "        print(line)\n",
    "        \n",
    "    \n",
    "\n"
   ]
  },
  {
   "cell_type": "code",
   "execution_count": 33,
   "metadata": {},
   "outputs": [
    {
     "data": {
      "text/plain": [
       "<re.Match object; span=(0, 21), match='![asdfasdf](asdfasdf)'>"
      ]
     },
     "execution_count": 33,
     "metadata": {},
     "output_type": "execute_result"
    }
   ],
   "source": [
    "re.match(pattern,derp)"
   ]
  },
  {
   "cell_type": "code",
   "execution_count": 14,
   "metadata": {},
   "outputs": [
    {
     "name": "stdout",
     "output_type": "stream",
     "text": [
      "['http://somewebsite.com/image1.jpg', 'http://anotherwebsite.com/image2.jpg']\n"
     ]
    },
    {
     "name": "stderr",
     "output_type": "stream",
     "text": [
      "/Applications/anaconda3/lib/python3.7/site-packages/ipykernel_launcher.py:18: DeprecationWarning: Using the add method to register a processor or pattern is deprecated. Use the `register` method instead.\n",
      "/Applications/anaconda3/lib/python3.7/site-packages/ipykernel_launcher.py:9: DeprecationWarning: 'markdown' is deprecated. Use 'md' instead.\n",
      "  if __name__ == '__main__':\n",
      "/Applications/anaconda3/lib/python3.7/site-packages/ipykernel_launcher.py:11: DeprecationWarning: 'markdown' is deprecated. Use 'md' instead.\n",
      "  # This is added back by InteractiveShellApp.init_path()\n"
     ]
    }
   ],
   "source": [
    "import markdown\n",
    "from markdown.treeprocessors import Treeprocessor\n",
    "from markdown.extensions import Extension\n",
    "\n",
    "# First create the treeprocessor\n",
    "\n",
    "class ImgExtractor(Treeprocessor):\n",
    "    def run(self, doc):\n",
    "        \"Find all images and append to markdown.images. \"\n",
    "        self.markdown.images = []\n",
    "        for image in doc.findall('.//img'):\n",
    "            self.markdown.images.append(image.get('src'))\n",
    "            \n",
    "            # Then tell markdown about it\n",
    "\n",
    "class ImgExtExtension(Extension):\n",
    "    def extendMarkdown(self, md, md_globals):\n",
    "        img_ext = ImgExtractor(md)\n",
    "        md.treeprocessors.add('imgext', img_ext, '>inline')\n",
    "\n",
    "# Finally create an instance of the Markdown class with the new extension\n",
    "\n",
    "md = markdown.Markdown(extensions=[ImgExtExtension()])\n",
    "\n",
    "# Now let's test it out:\n",
    "\n",
    "data = '''\n",
    "**this is some markdown**\n",
    "blah blah blah\n",
    "![image here](http://somewebsite.com/image1.jpg)\n",
    "![another image here](http://anotherwebsite.com/image2.jpg)\n",
    "'''\n",
    "html = md.convert(data)\n",
    "print(md.images)"
   ]
  },
  {
   "cell_type": "code",
   "execution_count": null,
   "metadata": {},
   "outputs": [],
   "source": []
  }
 ],
 "metadata": {
  "kernelspec": {
   "display_name": "Python 3",
   "language": "python",
   "name": "python3"
  },
  "language_info": {
   "codemirror_mode": {
    "name": "ipython",
    "version": 3
   },
   "file_extension": ".py",
   "mimetype": "text/x-python",
   "name": "python",
   "nbconvert_exporter": "python",
   "pygments_lexer": "ipython3",
   "version": "3.7.4"
  }
 },
 "nbformat": 4,
 "nbformat_minor": 2
}
