{
 "cells": [
  {
   "cell_type": "code",
   "execution_count": 1,
   "metadata": {},
   "outputs": [],
   "source": [
    "#pandoc3\n",
    "import os\n",
    "import re"
   ]
  },
  {
   "cell_type": "code",
   "execution_count": 2,
   "metadata": {},
   "outputs": [],
   "source": [
    "# Find all the markdown files. \n",
    "def findAllmarkdown():\n",
    "    mdlist = []\n",
    "    pandoclist = []\n",
    "    for root, dirs, files in os.walk(\".\"): \n",
    "        for f in files: \n",
    "            fullpath = os.path.join(root,f) \n",
    "            if fullpath.endswith(\".md\"):\n",
    "                mdlist.append((fullpath, root, f))\n",
    "    return mdlist"
   ]
  },
  {
   "cell_type": "code",
   "execution_count": 3,
   "metadata": {},
   "outputs": [],
   "source": [
    "mdlist = findAllmarkdown()"
   ]
  },
  {
   "cell_type": "code",
   "execution_count": 4,
   "metadata": {},
   "outputs": [],
   "source": [
    "# Copy the files. "
   ]
  },
  {
   "cell_type": "code",
   "execution_count": 5,
   "metadata": {},
   "outputs": [],
   "source": [
    "import shutil\n",
    "\n",
    "def createPandocFile(fullpath, root, f):\n",
    "    # keep it simple\n",
    "    temp2 =  f+'.pandoc'  \n",
    "    pandocfilename = root +'/'+ temp2\n",
    "    shutil.copyfile(fullpath,pandocfilename)\n",
    "    return pandocfilename\n",
    "\n",
    "pdlist = []\n",
    "\n",
    "for file in mdlist:\n",
    "    filepathfilename = file[0]\n",
    "    rootpath = file[1]\n",
    "    filename = file[2]\n",
    "    temp = createPandocFile(filepathfilename, rootpath, filename)\n",
    "    pdlist.append((temp, rootpath))\n",
    "\n",
    "    "
   ]
  },
  {
   "cell_type": "code",
   "execution_count": 6,
   "metadata": {},
   "outputs": [
    {
     "name": "stdout",
     "output_type": "stream",
     "text": [
      "('./README.md.pandoc', '.')\n",
      "('./System/README.md.pandoc', './System')\n",
      "('./System/PressureRelief/README.md.pandoc', './System/PressureRelief')\n",
      "('./System/Diagrams/README.md.pandoc', './System/Diagrams')\n",
      "('./System/AirPressureDelivery/README.md.pandoc', './System/AirPressureDelivery')\n",
      "('./System/AirSource/README.md.pandoc', './System/AirSource')\n",
      "('./System/AirDistrubution/README.md.pandoc', './System/AirDistrubution')\n",
      "('./System/AirDistrubution/BackFlowValve/README.md.pandoc', './System/AirDistrubution/BackFlowValve')\n",
      "('./System/IndividualDistribution/README.md.pandoc', './System/IndividualDistribution')\n",
      "('./System/LowPressureManometer/README.md.pandoc', './System/LowPressureManometer')\n",
      "('./System/ElectoMechanicalControlSystem/README.md.pandoc', './System/ElectoMechanicalControlSystem')\n",
      "('./System/PressureControlValve/README.md.pandoc', './System/PressureControlValve')\n",
      "('./System/PressureDistribution/README.md.pandoc', './System/PressureDistribution')\n",
      "('./System/Lessons/README.md.pandoc', './System/Lessons')\n",
      "('./System/Ventilator/README.md.pandoc', './System/Ventilator')\n",
      "('./System/Ventilator/ValveControl/README.md.pandoc', './System/Ventilator/ValveControl')\n",
      "('./System/Ventilator/RespirationRate/README.md.pandoc', './System/Ventilator/RespirationRate')\n",
      "('./System/Ventilator/TidalAirIN/README.md.pandoc', './System/Ventilator/TidalAirIN')\n",
      "('./System/Ventilator/TidalAirOUT/README.md.pandoc', './System/Ventilator/TidalAirOUT')\n",
      "('./System/Ventilator/TidalAirFilter/README.md.pandoc', './System/Ventilator/TidalAirFilter')\n",
      "('./System/Ventilator/PEEP/README.md.pandoc', './System/Ventilator/PEEP')\n",
      "('./System/AmbuBag/README.md.pandoc', './System/AmbuBag')\n",
      "('./System/LungSimulator/README.md.pandoc', './System/LungSimulator')\n",
      "('./System/AssemblyChapter/README.md.pandoc', './System/AssemblyChapter')\n",
      "('./System/AirFilter/README.md.pandoc', './System/AirFilter')\n",
      "('./System/AirFilter/v1/README.md.pandoc', './System/AirFilter/v1')\n",
      "('./System/BuildInfo/README.md.pandoc', './System/BuildInfo')\n",
      "('./System/RawDesigns/snippets.md.pandoc', './System/RawDesigns')\n",
      "('./Documents/license.md.pandoc', './Documents')\n",
      "('./Documents/README.md.pandoc', './Documents')\n",
      "('./Documents/VulcanREQ.md.pandoc', './Documents')\n"
     ]
    }
   ],
   "source": [
    "# success -- now just need to loop through all the files. \n",
    "pattern = \"!\\[(.*?)\\]\\((.*?)\\)\"\n",
    "pattern2 = \"!\\[(.*?)\\]\"\n",
    "\n",
    "def prependPath(line, path):\n",
    "    linesplit = line.split('(')\n",
    "    description = linesplit[0]\n",
    "    relpath = linesplit[1]\n",
    "    \n",
    "    # is this image local or not\n",
    "    \n",
    "    #relpathstruct = relpath.split('/')\n",
    "    \n",
    "    # always add the path relative to this one before\n",
    "    newline = (\"\".join(['(',path,'/',relpath]))\n",
    "    return newline\n",
    "    \n",
    "import fileinput\n",
    "import sys\n",
    "\n",
    "for pd in pdlist:\n",
    "    print(pd)\n",
    "    filepathfilename = pd[0]\n",
    "    rootpath = pd[1]\n",
    " \n",
    "\n",
    "    for line in fileinput.input(filepathfilename,inplace=True):\n",
    "        test= re.match(pattern, line)\n",
    "        #print(test)\n",
    "        if test != None:\n",
    "            # get the description\n",
    "            start = re.match(pattern2,line)\n",
    "            # adjust the path\n",
    "\n",
    "            derp = prependPath(line,rootpath)\n",
    "            replaceline = start.group()+ derp\n",
    "            #print(line)\n",
    "            #print(replaceline)\n",
    "            line = line.replace(line, replaceline)\n",
    "        #print(line) -- adds newlines everywhere\n",
    "        sys.stdout.write(line)\n",
    "\n",
    "    fileinput.close()\n",
    "            "
   ]
  },
  {
   "cell_type": "code",
   "execution_count": 7,
   "metadata": {},
   "outputs": [
    {
     "data": {
      "text/plain": [
       "'./Documents/VulcanREQ.md.pandoc'"
      ]
     },
     "execution_count": 7,
     "metadata": {},
     "output_type": "execute_result"
    }
   ],
   "source": [
    "filepathfilename"
   ]
  },
  {
   "cell_type": "code",
   "execution_count": null,
   "metadata": {},
   "outputs": [],
   "source": []
  }
 ],
 "metadata": {
  "kernelspec": {
   "display_name": "Python 3",
   "language": "python",
   "name": "python3"
  },
  "language_info": {
   "codemirror_mode": {
    "name": "ipython",
    "version": 3
   },
   "file_extension": ".py",
   "mimetype": "text/x-python",
   "name": "python",
   "nbconvert_exporter": "python",
   "pygments_lexer": "ipython3",
   "version": "3.8.3"
  }
 },
 "nbformat": 4,
 "nbformat_minor": 2
}
